{
  "nbformat": 4,
  "nbformat_minor": 0,
  "metadata": {
    "colab": {
      "provenance": [],
      "authorship_tag": "ABX9TyOwIxcDW+8ZIP3/Q5FYmH0b",
      "include_colab_link": true
    },
    "kernelspec": {
      "name": "python3",
      "display_name": "Python 3"
    },
    "language_info": {
      "name": "python"
    }
  },
  "cells": [
    {
      "cell_type": "markdown",
      "metadata": {
        "id": "view-in-github",
        "colab_type": "text"
      },
      "source": [
        "<a href=\"https://colab.research.google.com/github/03Fede/Modelo-Predictivo/blob/main/C%C3%B3digo_Modelo_Predictivo.ipynb\" target=\"_parent\"><img src=\"https://colab.research.google.com/assets/colab-badge.svg\" alt=\"Open In Colab\"/></a>"
      ]
    },
    {
      "cell_type": "code",
      "execution_count": null,
      "metadata": {
        "colab": {
          "base_uri": "https://localhost:8080/"
        },
        "id": "sB8uvI2APn9y",
        "outputId": "07283ce3-9982-4fef-dced-dad322c74d37"
      },
      "outputs": [
        {
          "output_type": "stream",
          "name": "stdout",
          "text": [
            "Requirement already satisfied: xgboost in /usr/local/lib/python3.10/dist-packages (2.1.3)\n",
            "Requirement already satisfied: numpy in /usr/local/lib/python3.10/dist-packages (from xgboost) (1.26.4)\n",
            "Requirement already satisfied: nvidia-nccl-cu12 in /usr/local/lib/python3.10/dist-packages (from xgboost) (2.23.4)\n",
            "Requirement already satisfied: scipy in /usr/local/lib/python3.10/dist-packages (from xgboost) (1.13.1)\n"
          ]
        }
      ],
      "source": [
        "!pip install xgboost\n"
      ]
    },
    {
      "cell_type": "code",
      "source": [
        "# Importar librerías necesarias\n",
        "import pandas as pd\n",
        "import numpy as np\n",
        "from sklearn.model_selection import train_test_split\n",
        "from sklearn.preprocessing import OneHotEncoder, StandardScaler\n",
        "from sklearn.linear_model import LogisticRegression\n",
        "from sklearn.tree import DecisionTreeClassifier\n",
        "from sklearn.ensemble import RandomForestClassifier\n",
        "from xgboost import XGBClassifier\n",
        "from sklearn.metrics import accuracy_score\n",
        "\n",
        "# Crear un conjunto de datos ficticio\n",
        "np.random.seed(42)  # Asegurar reproducibilidad\n",
        "data_ficticio = pd.DataFrame({\n",
        "    'Edad': np.random.randint(18, 70, 200),\n",
        "    'Nacionalidad': np.random.choice(['Argentina', 'Chile', 'México', 'EE.UU.', 'Brasil'], 200),\n",
        "    'Tipo_Paquete': np.random.choice(['Económico', 'Premium', 'De lujo'], 200),\n",
        "    'Dias_Viaje': np.random.randint(3, 21, 200),\n",
        "    'Destino': np.random.choice(['Cancún', 'Bariloche', 'Río de Janeiro', 'Machu Picchu', 'Patagonia'], 200),\n",
        "    'Calificacion': np.random.randint(1, 6, 200),\n",
        "    'Cliente_Recurrente': np.random.choice([0, 1], 200, p=[0.7, 0.3])  # 30% de clientes recurrentes\n",
        "})\n",
        "\n",
        "# Separar características (X) y objetivo (y)\n",
        "X = data_ficticio.drop(columns=['Cliente_Recurrente'])\n",
        "y = data_ficticio['Cliente_Recurrente']\n",
        "\n",
        "# Codificar variables categóricas\n",
        "categorical_features = ['Nacionalidad', 'Tipo_Paquete', 'Destino']\n",
        "# The 'sparse' argument is no longer supported, remove it.\n",
        "encoder = OneHotEncoder(drop='first', handle_unknown='ignore')  # handle_unknown='ignore' for unseen values during prediction\n",
        "X_encoded = pd.DataFrame(encoder.fit_transform(X[categorical_features]).toarray(),  # Convert to dense array\n",
        "                         columns=encoder.get_feature_names_out(categorical_features))\n",
        "\n",
        "# Escalar variables numéricas\n",
        "numerical_features = ['Edad', 'Dias_Viaje', 'Calificacion']\n",
        "scaler = StandardScaler()\n",
        "X_scaled = pd.DataFrame(scaler.fit_transform(X[numerical_features]), columns=numerical_features)\n",
        "\n",
        "# Combinar datos procesados\n",
        "X_prepared = pd.concat([X_scaled, X_encoded], axis=1)\n",
        "\n",
        "# Dividir en conjuntos de entrenamiento y prueba\n",
        "X_train, X_test, y_train, y_test = train_test_split(X_prepared, y, test_size=0.3, random_state=42)\n",
        "\n",
        "# Instanciar los modelos\n",
        "models = {\n",
        "    'Logistic Regression': LogisticRegression(random_state=42),\n",
        "    'Decision Tree': DecisionTreeClassifier(random_state=42),\n",
        "    'Random Forest': RandomForestClassifier(random_state=42),\n",
        "    'XGBoost': XGBClassifier(use_label_encoder=False, eval_metric='logloss', random_state=42)\n",
        "}\n",
        "\n",
        "# Entrenar y evaluar los modelos\n",
        "results = {}\n",
        "for model_name, model in models.items():\n",
        "    model.fit(X_train, y_train)  # Entrenar\n",
        "    y_pred = model.predict(X_test)  # Predecir en el conjunto de prueba\n",
        "    accuracy = accuracy_score(y_test, y_pred)  # Calcular precisión\n",
        "    results[model_name] = accuracy\n",
        "\n",
        "# Mostrar resultados\n",
        "for model_name, accuracy in sorted(results.items(), key=lambda x: x[1], reverse=True):\n",
        "    print(f\"{model_name}: Accuracy = {accuracy:.2f}\")\n"
      ],
      "metadata": {
        "colab": {
          "base_uri": "https://localhost:8080/"
        },
        "id": "8oKzfDduQZhd",
        "outputId": "6fc2d280-ad23-4dde-c434-89c423da1b40"
      },
      "execution_count": null,
      "outputs": [
        {
          "output_type": "stream",
          "name": "stdout",
          "text": [
            "Logistic Regression: Accuracy = 0.67\n",
            "XGBoost: Accuracy = 0.62\n",
            "Random Forest: Accuracy = 0.60\n",
            "Decision Tree: Accuracy = 0.55\n"
          ]
        },
        {
          "output_type": "stream",
          "name": "stderr",
          "text": [
            "/usr/local/lib/python3.10/dist-packages/xgboost/core.py:158: UserWarning: [12:20:05] WARNING: /workspace/src/learner.cc:740: \n",
            "Parameters: { \"use_label_encoder\" } are not used.\n",
            "\n",
            "  warnings.warn(smsg, UserWarning)\n"
          ]
        }
      ]
    }
  ]
}